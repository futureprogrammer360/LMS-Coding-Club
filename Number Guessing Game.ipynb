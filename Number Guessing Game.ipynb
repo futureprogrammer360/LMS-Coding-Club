{
 "cells": [
  {
   "cell_type": "markdown",
   "id": "8709d5d2",
   "metadata": {},
   "source": [
    "# Number guessing game\n",
    "Today we will learn about `while` loops and make a **number guessing game** using that. In addition, we will briefly discuss the `random` module's `randint()` function, which we will use to generate random numbers."
   ]
  },
  {
   "cell_type": "markdown",
   "id": "21d9c6e7",
   "metadata": {},
   "source": [
    "## Loops\n",
    "In life, we do many things **repeatedly**. For instance,\n",
    "> * **While** I have homework left to do, I will do them.\n",
    "> * I will write programs **for as long as** I have time tonight."
   ]
  },
  {
   "cell_type": "markdown",
   "id": "c22b95fd",
   "metadata": {},
   "source": [
    "Usually, we continue a certain action **while** a condition is `True`. This can be modeled by a `while` loop in programming. Below is the structure of a `while` loop in Python:\n",
    "\n",
    "```python\n",
    "while CONDITION:\n",
    "    DO_SOMETHING\n",
    "```"
   ]
  },
  {
   "cell_type": "markdown",
   "id": "d2719cb8",
   "metadata": {},
   "source": [
    "Many things can be modeled by `while` loops, including things as simple as counting."
   ]
  },
  {
   "cell_type": "code",
   "execution_count": 1,
   "id": "b42a8b7e",
   "metadata": {},
   "outputs": [
    {
     "name": "stdout",
     "output_type": "stream",
     "text": [
      "1\n",
      "2\n",
      "3\n"
     ]
    }
   ],
   "source": [
    "i = 1         # Initial value of i\n",
    "while i < 4:  # While i is less than 4 (1, 2, 3)\n",
    "    print(i)  # Print i\n",
    "    i += 1    # Equivalent to i = i + 1 (increment i by 1)"
   ]
  },
  {
   "cell_type": "markdown",
   "id": "e194efcc",
   "metadata": {},
   "source": [
    "### ✍ Your turn: positive numbers only\n",
    "Fill in the blanks in the code below to make the program work. The goal of this super useful program is to continuously ask for numbers, and stop only when a negative number has been entered.\n",
    "\n",
    "```python\n",
    "num = 0  # We make num 0 so we can enter the loop\n",
    "_____ num >= _:\n",
    "    num = int(_____(\"Enter a POSITIVE number: \"))\n",
    "print(\"The loop ended 😢 because you entered a NEGATIVE number.\")\n",
    "```"
   ]
  },
  {
   "cell_type": "code",
   "execution_count": 2,
   "id": "9226395b",
   "metadata": {},
   "outputs": [
    {
     "name": "stdout",
     "output_type": "stream",
     "text": [
      "Enter a POSITIVE number: 10\n",
      "Enter a POSITIVE number: 5\n",
      "Enter a POSITIVE number: 2\n",
      "Enter a POSITIVE number: -21\n",
      "The loop ended 😢 because you entered a NEGATIVE number.\n"
     ]
    }
   ],
   "source": [
    "num = 0\n",
    "while num >= 0:\n",
    "    num = int(input(\"Enter a POSITIVE number: \"))\n",
    "print(\"The loop ended 😢 because you entered a NEGATIVE number.\")"
   ]
  },
  {
   "cell_type": "markdown",
   "id": "b8639309",
   "metadata": {},
   "source": [
    "### `break`, `continue`, and `pass`\n",
    "These are control flow keywords in Python.\n",
    "* `break` **breaks** out of a loop immediately\n",
    "* `continue` **continues** the loop to its next iteration/repetition immediately\n",
    "* `pass` does literally **nothing** - mostly used as placeholder"
   ]
  },
  {
   "cell_type": "code",
   "execution_count": 3,
   "id": "da84e2dc",
   "metadata": {
    "scrolled": true
   },
   "outputs": [
    {
     "name": "stdout",
     "output_type": "stream",
     "text": [
      "0\n",
      "1\n",
      "2\n",
      "3\n"
     ]
    }
   ],
   "source": [
    "i = 0\n",
    "while i < 100000000000000:  # 😱\n",
    "    print(i)\n",
    "    if i == 3:\n",
    "        break\n",
    "    i += 1"
   ]
  },
  {
   "cell_type": "code",
   "execution_count": 4,
   "id": "d6c4fc8c",
   "metadata": {},
   "outputs": [
    {
     "name": "stdout",
     "output_type": "stream",
     "text": [
      "1\n",
      "3\n"
     ]
    }
   ],
   "source": [
    "i = 0\n",
    "while i < 3:\n",
    "    i += 1\n",
    "    if i == 2:\n",
    "        continue\n",
    "    print(i)"
   ]
  },
  {
   "cell_type": "markdown",
   "id": "bd6cb6ce",
   "metadata": {},
   "source": [
    "### Beware infinite loops\n",
    "If we forget an exit condition for a loop (`while True`), or specify one which can never be reached, our `while` loops can run foreverrrrrrrr. At least until your computer dies. When that happens, pressing `CTRL+C` usually breaks the program through `KeyboardInterrupt`. But it's always better to avoid such situations altogether."
   ]
  },
  {
   "cell_type": "markdown",
   "id": "caa01a89",
   "metadata": {},
   "source": [
    "## A quick word about `random` numbers\n",
    "We probably want our random number guessing game to be... random. Here's how a pseudo-random integer can be generated in Python."
   ]
  },
  {
   "cell_type": "code",
   "execution_count": 5,
   "id": "176180ce",
   "metadata": {},
   "outputs": [
    {
     "name": "stdout",
     "output_type": "stream",
     "text": [
      "1 3 2 4 5 5 3 2 3 4 3 4 4 2 5 5 5 2 5 2 3 2 3 5 2 "
     ]
    }
   ],
   "source": [
    "import random  # At the top of the program\n",
    "\n",
    "i = 0\n",
    "while i < 25:\n",
    "    print(random.randint(1, 5), end=\" \")\n",
    "    i += 1"
   ]
  },
  {
   "cell_type": "markdown",
   "id": "45ee015e",
   "metadata": {},
   "source": [
    "`random.randint(1, 5)` produces either 1, 2, 3, 4, or 5."
   ]
  },
  {
   "cell_type": "markdown",
   "id": "93e099fa",
   "metadata": {},
   "source": [
    "## Project: number guessing game\n",
    "Using `while` loops, conditional statements (`if`-`elif`-`else`), and input/ouput, make a random number guessing game!"
   ]
  },
  {
   "cell_type": "code",
   "execution_count": 6,
   "id": "1a34866f",
   "metadata": {},
   "outputs": [
    {
     "name": "stdout",
     "output_type": "stream",
     "text": [
      "Guess a number between 0 and 10: 6\n",
      "Too high!\n",
      "\n",
      "Guess a number between 0 and 10: 4\n",
      "Too high!\n",
      "\n",
      "Guess a number between 0 and 10: 2\n",
      "Oops... you ran out of guesses.\n",
      "The correct number was 1.\n",
      "\n",
      "Thanks for playing!\n"
     ]
    }
   ],
   "source": [
    "# Example solution\n",
    "import random\n",
    "\n",
    "random_number = random.randint(0, 10)\n",
    "guesses = 3  # Number of guesses allowed\n",
    "\n",
    "while guesses > 0:\n",
    "    guess = int(input(\"Guess a number between 0 and 10: \"))\n",
    "    guesses -= 1\n",
    "    if guess == random_number:\n",
    "        print(\"Congratulations! \" + str(guess) + \" is correct!\\n\")\n",
    "        break\n",
    "    elif guesses == 0:\n",
    "        print(\"Oops... you ran out of guesses.\")\n",
    "        print(\"The correct number was \" + str(random_number) + \".\")\n",
    "    elif guess < random_number:\n",
    "        print(\"Too low!\")\n",
    "    else:\n",
    "        print(\"Too high!\")\n",
    "    print()\n",
    "\n",
    "print(\"Thanks for playing!\")"
   ]
  }
 ],
 "metadata": {
  "kernelspec": {
   "display_name": "Python 3 (ipykernel)",
   "language": "python",
   "name": "python3"
  },
  "language_info": {
   "codemirror_mode": {
    "name": "ipython",
    "version": 3
   },
   "file_extension": ".py",
   "mimetype": "text/x-python",
   "name": "python",
   "nbconvert_exporter": "python",
   "pygments_lexer": "ipython3",
   "version": "3.9.10"
  }
 },
 "nbformat": 4,
 "nbformat_minor": 5
}
