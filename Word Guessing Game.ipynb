{
 "cells": [
  {
   "cell_type": "markdown",
   "id": "b449da7c",
   "metadata": {},
   "source": [
    "# Word guessing game\n",
    "Today's goal is to create a word guessing game (kind of like hangman)."
   ]
  },
  {
   "cell_type": "markdown",
   "id": "7810ea82",
   "metadata": {},
   "source": [
    "## `for` loop\n",
    "We learned about `while` loops a while ago. Now let's learn about another type of loops, `for` loops. `for` loops are used to **iterate** over a sequence. Some code will be run once **for** each item in the sequence."
   ]
  },
  {
   "cell_type": "code",
   "execution_count": 1,
   "id": "3926d158",
   "metadata": {},
   "outputs": [
    {
     "name": "stdout",
     "output_type": "stream",
     "text": [
      "Do homework\n",
      "Review for tests\n",
      "Walk\n"
     ]
    }
   ],
   "source": [
    "tasks = [\"Do homework\", \"Review for tests\", \"Walk\"]\n",
    "for task in tasks:  # For each task in tasks\n",
    "    print(task)"
   ]
  },
  {
   "cell_type": "markdown",
   "id": "f4e06058",
   "metadata": {},
   "source": [
    "*`for` each `task` `in` `tasks`, `print` out `task`*"
   ]
  },
  {
   "cell_type": "code",
   "execution_count": 2,
   "id": "84ad4af3",
   "metadata": {},
   "outputs": [
    {
     "name": "stdout",
     "output_type": "stream",
     "text": [
      "P\n",
      "y\n",
      "t\n",
      "h\n",
      "o\n",
      "n\n"
     ]
    }
   ],
   "source": [
    "for character in \"Python\":  # For each character in \"Python\"\n",
    "    print(character)        # Print out the character"
   ]
  },
  {
   "cell_type": "code",
   "execution_count": 3,
   "id": "91e750cf",
   "metadata": {},
   "outputs": [
    {
     "name": "stdout",
     "output_type": "stream",
     "text": [
      "P\n",
      "t\n",
      "h\n"
     ]
    }
   ],
   "source": [
    "for character in \"Python\":                # For each character in \"Python\"\n",
    "    if character not in [\"y\", \"o\", \"n\"]:  # If it is not \"y\", \"o\", or \"n\"\n",
    "        print(character)                  # Print it out"
   ]
  },
  {
   "cell_type": "markdown",
   "id": "09bae2ac",
   "metadata": {},
   "source": [
    "One of the functions we will write today, will give us a *word-in-progress*. For instance, if...\n",
    "* the word is `Python`\n",
    "* the player has guessed `y`, `o`, and `n`\n",
    "\n",
    "Then the word in progress will be `*y**on`. The letters the player hasn't guessed will be covered by some symbol.\n",
    "\n",
    "This process is implemented in the function below. Try to understand what it is doing, look at the comments on the right side if that helps."
   ]
  },
  {
   "cell_type": "code",
   "execution_count": 4,
   "id": "4e1a6c42",
   "metadata": {},
   "outputs": [],
   "source": [
    "def word_in_progress(word, lettersguessed):\n",
    "    word_in_progress = \"\"               # An empty string\n",
    "\n",
    "    for letter in word:                 # For each letter in the word\n",
    "        if letter in lettersguessed:    # If the letter has been guessed\n",
    "            word_in_progress += letter  # Show letter\n",
    "        else:                           # If the letter hasn't been guessed\n",
    "            word_in_progress += \"*\"     # Hide letter\n",
    "\n",
    "    return word_in_progress"
   ]
  },
  {
   "cell_type": "code",
   "execution_count": 5,
   "id": "b8c9d82f",
   "metadata": {},
   "outputs": [
    {
     "name": "stdout",
     "output_type": "stream",
     "text": [
      "*y**on\n"
     ]
    }
   ],
   "source": [
    "print(word_in_progress(\"Python\", [\"y\", \"o\", \"n\"]))"
   ]
  },
  {
   "cell_type": "markdown",
   "id": "0bf4e2d1",
   "metadata": {},
   "source": [
    "## Some other things you should know\n",
    "Here are some miscellaneous things that might be needed for this program."
   ]
  },
  {
   "cell_type": "markdown",
   "id": "578f0383",
   "metadata": {},
   "source": [
    "### `len()`\n",
    "We can use the `len()` function to get the length of some text, list, etc."
   ]
  },
  {
   "cell_type": "code",
   "execution_count": 6,
   "id": "d7fc3329",
   "metadata": {
    "scrolled": false
   },
   "outputs": [
    {
     "name": "stdout",
     "output_type": "stream",
     "text": [
      "6\n",
      "5\n"
     ]
    }
   ],
   "source": [
    "print(len(\"Python\"))         # Length of a string\n",
    "print(len([1, 2, 3, 4, 5]))  # Length of a list"
   ]
  },
  {
   "cell_type": "markdown",
   "id": "0cfbe467",
   "metadata": {},
   "source": [
    "### Adding to a list\n",
    "We can add a new element to a `list` with the `.append()` method. Here's how:"
   ]
  },
  {
   "cell_type": "code",
   "execution_count": 7,
   "id": "2a66bc06",
   "metadata": {},
   "outputs": [
    {
     "name": "stdout",
     "output_type": "stream",
     "text": [
      "[1, 2, 3]\n",
      "[1, 2, 3, 4]\n"
     ]
    }
   ],
   "source": [
    "a_list = [1, 2, 3]  # We make a new list\n",
    "print(a_list)\n",
    "\n",
    "a_list.append(4)    # We add 4 to our list\n",
    "print(a_list)"
   ]
  },
  {
   "cell_type": "markdown",
   "id": "f56db94e",
   "metadata": {},
   "source": [
    "### Is something in here?\n",
    "We can check if one thing is a `list` or `string` using the keyword `in`. This will give us either `True` (if it **is** in), or `False` (if it is **not**)."
   ]
  },
  {
   "cell_type": "code",
   "execution_count": 8,
   "id": "593f5549",
   "metadata": {},
   "outputs": [
    {
     "name": "stdout",
     "output_type": "stream",
     "text": [
      "True\n",
      "False\n",
      "True\n",
      "False\n"
     ]
    }
   ],
   "source": [
    "print(\"a\" in \"apple\")  # Is \"a\" in \"apple\"?\n",
    "print(\"b\" in \"apple\")  # Is \"b\" in \"apple\"?\n",
    "\n",
    "print(\"python\" in [\"python\", \"javascript\", \"c++\", \"go\", \"java\"])\n",
    "print(\"ruby\" in [\"python\", \"javascript\", \"c++\", \"go\", \"java\"])"
   ]
  },
  {
   "cell_type": "markdown",
   "id": "744ac2b3",
   "metadata": {},
   "source": [
    "## The rest of the program...\n",
    "One function done, a few more to go! Before you look at the code for each section, use the description and the hint to try to write it yourself."
   ]
  },
  {
   "cell_type": "markdown",
   "id": "23e7bede",
   "metadata": {},
   "source": [
    "### Choosing a random word from a list\n",
    "We want a random word to be chosen for each game.\n",
    "\n",
    "*Hint: we want to `random`ly choose a word from a `list` of words...*"
   ]
  },
  {
   "cell_type": "code",
   "execution_count": 9,
   "id": "562d2e1b",
   "metadata": {},
   "outputs": [],
   "source": [
    "import random\n",
    "\n",
    "def choose_word():\n",
    "    # Feel free to change this list :)\n",
    "    words = [\"apple\", \"banana\", \"cherry\", \"grape\", \"lemon\", \"mango\"]\n",
    "\n",
    "    word = random.choice(words)  # Randomly choose a word from words\n",
    "    return word"
   ]
  },
  {
   "cell_type": "code",
   "execution_count": 10,
   "id": "278f7dd6",
   "metadata": {},
   "outputs": [
    {
     "name": "stdout",
     "output_type": "stream",
     "text": [
      "apple\n",
      "mango\n",
      "lemon\n"
     ]
    }
   ],
   "source": [
    "print(choose_word())\n",
    "print(choose_word())\n",
    "print(choose_word())"
   ]
  },
  {
   "cell_type": "markdown",
   "id": "7a91e04f",
   "metadata": {},
   "source": [
    "Finally, let's tie everything back together in a `main()` function. This will handle the logic for one round of word guessing. The function takes one parameter (input) called `word`, which is the mystery word that the player is trying to guess for the current game.\n",
    "\n",
    "Some ideas/hints:\n",
    "* Keep track of letters the player has guessed in a `list`...\n",
    "* Track how many guesses the player has left using a variable...\n",
    "* Print the `word_in_progress` before each guess...\n",
    "* Ask for a letter from the player\n",
    "    * If the letter is in the word...\n",
    "    * If the letter is not in the word..."
   ]
  },
  {
   "cell_type": "code",
   "execution_count": 11,
   "id": "46a00fc5",
   "metadata": {},
   "outputs": [],
   "source": [
    "def main(word):\n",
    "\n",
    "    # How many chances the player should get to guess the word?\n",
    "    num_guesses = len(word) * 2  # Twice the length of the word\n",
    "    print(\"The word you're guessing is \" + str(len(word)) + \" letters long.\")\n",
    "\n",
    "    lettersguessed = []  # Let's use a list to track the letters guessed\n",
    "    \n",
    "    while True:  # Continuously output information and ask for guesses\n",
    "        print(\"Number of guesses left: \" + str(num_guesses))\n",
    "        print(\"Letters guessed: \" + str(lettersguessed))\n",
    "        print(word_in_progress(word, lettersguessed))\n",
    "        \n",
    "        guess = input(\"Guess a letter: \")\n",
    "\n",
    "        # Add the new guess to lettersguessed if it's not already there\n",
    "        if guess not in lettersguessed:\n",
    "            lettersguessed.append(guess)\n",
    "        \n",
    "        # If the word in progress is equal to word (nothing is covered)\n",
    "        # The word has been guessed\n",
    "        if word_in_progress(word, lettersguessed) == word:\n",
    "            print(\"Good job! You got the word, which is \" + word)\n",
    "            break\n",
    "\n",
    "        else:\n",
    "            num_guesses -= 1  # Decrease remaining chances\n",
    "            if guess in word:\n",
    "                print(\"Correct letter!\")\n",
    "            else:\n",
    "                print(guess + \" is not in the word.\")\n",
    "    \n",
    "        # If the player ran out of guesses\n",
    "        if num_guesses <= 0:\n",
    "            print(\"Oops... you ran out of guesses.\")\n",
    "            print(\"The correct word was \" + word)\n",
    "            break\n",
    "        \n",
    "        print(\"================\")\n",
    "        print()"
   ]
  },
  {
   "cell_type": "code",
   "execution_count": 12,
   "id": "0e7a9e99",
   "metadata": {
    "scrolled": false
   },
   "outputs": [
    {
     "name": "stdout",
     "output_type": "stream",
     "text": [
      "The word you're guessing is 6 letters long.\n",
      "Number of guesses left: 12\n",
      "Letters guessed: []\n",
      "******\n",
      "Guess a letter: y\n",
      "Correct letter!\n",
      "================\n",
      "\n",
      "Number of guesses left: 11\n",
      "Letters guessed: ['y']\n",
      "*y****\n",
      "Guess a letter: o\n",
      "Correct letter!\n",
      "================\n",
      "\n",
      "Number of guesses left: 10\n",
      "Letters guessed: ['y', 'o']\n",
      "*y**o*\n",
      "Guess a letter: n\n",
      "Correct letter!\n",
      "================\n",
      "\n",
      "Number of guesses left: 9\n",
      "Letters guessed: ['y', 'o', 'n']\n",
      "*y**on\n",
      "Guess a letter: p\n",
      "Correct letter!\n",
      "================\n",
      "\n",
      "Number of guesses left: 8\n",
      "Letters guessed: ['y', 'o', 'n', 'p']\n",
      "py**on\n",
      "Guess a letter: j\n",
      "j is not in the word.\n",
      "================\n",
      "\n",
      "Number of guesses left: 7\n",
      "Letters guessed: ['y', 'o', 'n', 'p', 'j']\n",
      "py**on\n",
      "Guess a letter: h\n",
      "Correct letter!\n",
      "================\n",
      "\n",
      "Number of guesses left: 6\n",
      "Letters guessed: ['y', 'o', 'n', 'p', 'j', 'h']\n",
      "py*hon\n",
      "Guess a letter: t\n",
      "Good job! You got the word, which is python\n"
     ]
    }
   ],
   "source": [
    "main(\"python\")"
   ]
  },
  {
   "cell_type": "markdown",
   "id": "c4b6f3cf",
   "metadata": {},
   "source": [
    "## The entire program\n",
    "Below is the code for the entire program."
   ]
  },
  {
   "cell_type": "code",
   "execution_count": 13,
   "id": "5aec7fb9",
   "metadata": {},
   "outputs": [
    {
     "name": "stdout",
     "output_type": "stream",
     "text": [
      "The word you're guessing is 5 letters long.\n",
      "Number of guesses left: 10\n",
      "Letters guessed: []\n",
      "*****\n",
      "Guess a letter: e\n",
      "Correct letter!\n",
      "================\n",
      "\n",
      "Number of guesses left: 9\n",
      "Letters guessed: ['e']\n",
      "****e\n",
      "Guess a letter: g\n",
      "Correct letter!\n",
      "================\n",
      "\n",
      "Number of guesses left: 8\n",
      "Letters guessed: ['e', 'g']\n",
      "g***e\n",
      "Guess a letter: r\n",
      "Correct letter!\n",
      "================\n",
      "\n",
      "Number of guesses left: 7\n",
      "Letters guessed: ['e', 'g', 'r']\n",
      "gr**e\n",
      "Guess a letter: a\n",
      "Correct letter!\n",
      "================\n",
      "\n",
      "Number of guesses left: 6\n",
      "Letters guessed: ['e', 'g', 'r', 'a']\n",
      "gra*e\n",
      "Guess a letter: q\n",
      "q is not in the word.\n",
      "================\n",
      "\n",
      "Number of guesses left: 5\n",
      "Letters guessed: ['e', 'g', 'r', 'a', 'q']\n",
      "gra*e\n",
      "Guess a letter: i\n",
      "i is not in the word.\n",
      "================\n",
      "\n",
      "Number of guesses left: 4\n",
      "Letters guessed: ['e', 'g', 'r', 'a', 'q', 'i']\n",
      "gra*e\n",
      "Guess a letter: l\n",
      "l is not in the word.\n",
      "================\n",
      "\n",
      "Number of guesses left: 3\n",
      "Letters guessed: ['e', 'g', 'r', 'a', 'q', 'i', 'l']\n",
      "gra*e\n",
      "Guess a letter: b\n",
      "b is not in the word.\n",
      "================\n",
      "\n",
      "Number of guesses left: 2\n",
      "Letters guessed: ['e', 'g', 'r', 'a', 'q', 'i', 'l', 'b']\n",
      "gra*e\n",
      "Guess a letter: c\n",
      "c is not in the word.\n",
      "================\n",
      "\n",
      "Number of guesses left: 1\n",
      "Letters guessed: ['e', 'g', 'r', 'a', 'q', 'i', 'l', 'b', 'c']\n",
      "gra*e\n",
      "Guess a letter: w\n",
      "w is not in the word.\n",
      "Oops... you ran out of guesses.\n",
      "The correct word was grape\n"
     ]
    }
   ],
   "source": [
    "import random\n",
    "\n",
    "def choose_word():\n",
    "    # Feel free to change this list :)\n",
    "    words = [\"apple\", \"banana\", \"cherry\", \"grape\", \"lemon\", \"mango\"]\n",
    "\n",
    "    word = random.choice(words)  # Randomly choose a word from words\n",
    "    return word\n",
    "\n",
    "def word_in_progress(word, lettersguessed):\n",
    "    word_in_progress = \"\"               # An empty string\n",
    "\n",
    "    for letter in word:                 # For each letter in the word\n",
    "        if letter in lettersguessed:    # If the letter has been guessed\n",
    "            word_in_progress += letter  # Show letter\n",
    "        else:                           # If the letter hasn't been guessed\n",
    "            word_in_progress += \"*\"     # Hide letter\n",
    "\n",
    "    return word_in_progress\n",
    "\n",
    "def main(word):\n",
    "    # How many chances the player should get to guess the word?\n",
    "    num_guesses = len(word) * 2  # Twice the length of the word\n",
    "    print(\"The word you're guessing is \" + str(len(word)) + \" letters long.\")\n",
    "\n",
    "    lettersguessed = []  # Let's use a list to track the letters guessed\n",
    "    \n",
    "    while True:  # Continuously output information and ask for guesses\n",
    "        print(\"Number of guesses left: \" + str(num_guesses))\n",
    "        print(\"Letters guessed: \" + str(lettersguessed))\n",
    "        print(word_in_progress(word, lettersguessed))\n",
    "        \n",
    "        guess = input(\"Guess a letter: \")\n",
    "\n",
    "        # Add the new guess to lettersguessed if it's not already there\n",
    "        if guess not in lettersguessed:\n",
    "            lettersguessed.append(guess)\n",
    "        \n",
    "        # If the word in progress is equal to word (nothing is covered)\n",
    "        # The word has been guessed\n",
    "        if word_in_progress(word, lettersguessed) == word:\n",
    "            print(\"Good job! You got the word, which is \" + word)\n",
    "            break\n",
    "\n",
    "        else:\n",
    "            num_guesses -= 1  # Decrease remaining chances\n",
    "            if guess in word:\n",
    "                print(\"Correct letter!\")\n",
    "            else:\n",
    "                print(guess + \" is not in the word.\")\n",
    "    \n",
    "        # If the player ran out of guesses\n",
    "        if num_guesses <= 0:\n",
    "            print(\"Oops... you ran out of guesses.\")\n",
    "            print(\"The correct word was \" + word)\n",
    "            break\n",
    "        \n",
    "        print(\"================\")\n",
    "        print()\n",
    "    \n",
    "main(choose_word())"
   ]
  }
 ],
 "metadata": {
  "kernelspec": {
   "display_name": "Python 3 (ipykernel)",
   "language": "python",
   "name": "python3"
  },
  "language_info": {
   "codemirror_mode": {
    "name": "ipython",
    "version": 3
   },
   "file_extension": ".py",
   "mimetype": "text/x-python",
   "name": "python",
   "nbconvert_exporter": "python",
   "pygments_lexer": "ipython3",
   "version": "3.9.6"
  }
 },
 "nbformat": 4,
 "nbformat_minor": 5
}
