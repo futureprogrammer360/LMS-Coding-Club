{
 "cells": [
  {
   "cell_type": "markdown",
   "id": "57381818",
   "metadata": {},
   "source": [
    "# Choose your own adventure\n",
    "Today's final project is a **Choose your own adventure game**. In preparation for that, you will learn about **conditional statements**."
   ]
  },
  {
   "cell_type": "markdown",
   "id": "6e068a34",
   "metadata": {},
   "source": [
    "## To do or not to do\n",
    "Think about how you make decisions in life. How do you make the decision of whether to go to school or not?\n",
    "> * If it's the weekend, I'll stay home and not go to school.\n",
    "> * If it's a weekday, I'll stay home too :)\n",
    "\n",
    "Ok, probably not, but the general idea is correct - we make decisions based on **conditions**. **If** something is `True`, we do something."
   ]
  },
  {
   "cell_type": "markdown",
   "id": "96676ea9",
   "metadata": {},
   "source": [
    "Programs can be written to behave in similar ways. Think about when you log into an account. How does the computer know whether you should be let in?\n",
    "\n",
    "> * If the password you entered is equal to the correct password... *access granted*\n",
    "> * If the password you entered is different from the correct password... *access denied*\n",
    "\n",
    "This is, of course, a simplified version of the process of user authorization and authentication. Cybersecurity is more than just simple `if` statements of course."
   ]
  },
  {
   "cell_type": "code",
   "execution_count": 1,
   "id": "346385f5",
   "metadata": {},
   "outputs": [
    {
     "name": "stdout",
     "output_type": "stream",
     "text": [
      "Enter a number: 10\n",
      "Positive number\n"
     ]
    }
   ],
   "source": [
    "num = input(\"Enter a number: \")\n",
    "num = int(num)  # Convert the input (text) to a number (integer)\n",
    "\n",
    "# Condition testing\n",
    "if num > 0:\n",
    "    print(\"Positive number\")\n",
    "if num < 0:\n",
    "    print(\"Negative number\")"
   ]
  },
  {
   "cell_type": "markdown",
   "id": "7e7d7fcd",
   "metadata": {},
   "source": [
    "In the code above, we check if `num > 0` (`num` is greater than `0`). If that is `True`, we run `print(\"Positive number\")`. Can you explain what the last 2 lines of the program do?"
   ]
  },
  {
   "cell_type": "markdown",
   "id": "4a69a5a0",
   "metadata": {},
   "source": [
    "The general syntax for an `if` statement in Python starts with the word `if`, then the **condition** we are testing. After that is a colon (`:`). The last part is the statements we want to run `if` the condition is `True`. *This part is __indented__* (i.e. there are a few (usually 4) spaces in front of these lines)."
   ]
  },
  {
   "cell_type": "markdown",
   "id": "25214970",
   "metadata": {},
   "source": [
    "## Otherwise...\n",
    "`if` statements can do many things, but we often encounter situations where we do one thing in one situation, and another thing **otherwise**. The Python equivalent of this is `else`."
   ]
  },
  {
   "cell_type": "code",
   "execution_count": 2,
   "id": "840ff529",
   "metadata": {},
   "outputs": [
    {
     "name": "stdout",
     "output_type": "stream",
     "text": [
      "Enter a number: -9\n",
      "Negative number\n"
     ]
    }
   ],
   "source": [
    "num = input(\"Enter a number: \")\n",
    "num = int(num)  # Convert the input (text) to a number (integer)\n",
    "\n",
    "# Condition testing\n",
    "if num > 0:\n",
    "    print(\"Positive number\")\n",
    "else:\n",
    "    print(\"Negative number\")"
   ]
  },
  {
   "cell_type": "markdown",
   "id": "82945f1c",
   "metadata": {},
   "source": [
    "## If this other thing happens...\n",
    "Sometimes, one `if` just doesn't quite cut it. When overthinking a simple situation, people (totally not me) often ponder several different situations. Here, we can use the `elif`."
   ]
  },
  {
   "cell_type": "code",
   "execution_count": 3,
   "id": "5deccae3",
   "metadata": {},
   "outputs": [
    {
     "name": "stdout",
     "output_type": "stream",
     "text": [
      "Enter a number: 0\n",
      "Zero\n"
     ]
    }
   ],
   "source": [
    "num = input(\"Enter a number: \")\n",
    "num = int(num)  # Convert the input (text) to a number (integer)\n",
    "\n",
    "# Condition testing\n",
    "if num > 0:\n",
    "    print(\"Positive number\")\n",
    "elif num == 0:  # ==, checking for equality\n",
    "    print(\"Zero\")\n",
    "else:\n",
    "    print(\"Negative number\")"
   ]
  },
  {
   "cell_type": "markdown",
   "id": "e2331422",
   "metadata": {},
   "source": [
    "### ✍ Your turn: even or odd?\n",
    "Fill in the blanks in the code below to make the program work.\n",
    "\n",
    "*Note: `a % b` gives the __remainder__ of division. E.g. `5 % 2 = 1`*\n",
    "\n",
    "```python\n",
    "num = int(input(\"Enter a number: \"))\n",
    "if num % 2 == __\n",
    "    _____(\"num is even!\")\n",
    "____:\n",
    "    print(\"num is ___!\")\n",
    "```"
   ]
  },
  {
   "cell_type": "code",
   "execution_count": 4,
   "id": "fc8aba4b",
   "metadata": {},
   "outputs": [
    {
     "name": "stdout",
     "output_type": "stream",
     "text": [
      "Enter a number: 34\n",
      "num is even!\n"
     ]
    }
   ],
   "source": [
    "# Solution\n",
    "num = int(input(\"Enter a number: \"))\n",
    "if num % 2 == 0:\n",
    "    print(\"num is even!\")\n",
    "else:\n",
    "    print(\"num is odd!\")"
   ]
  },
  {
   "cell_type": "markdown",
   "id": "95f5d368",
   "metadata": {},
   "source": [
    "## A quick note about indentation\n",
    "Something that can cause a headache to those learning Python is indentation. Something that might help is thinking in terms of a tree: a decision tree. A tree has branches, and likewise, indentation has levels."
   ]
  },
  {
   "cell_type": "code",
   "execution_count": null,
   "id": "8286e26c",
   "metadata": {},
   "outputs": [],
   "source": [
    "if CONDITION_1:\n",
    "    # LEVEL 1\n",
    "    if CONDITION_2:\n",
    "        # LEVEL 2\n",
    "        if CONDITION_3:\n",
    "            # LEVEL 3\n",
    "            ..."
   ]
  },
  {
   "cell_type": "markdown",
   "id": "84b21441",
   "metadata": {},
   "source": [
    "## Project: choose your own adventure\n",
    "Choose your own adventure games are games where the player becomes the main character of a story, and makes choices that determine how the story continues.\n",
    "\n",
    "For example, in a story surrounding a middle school student, there can be a choice about whether they should go to school or not 😉."
   ]
  },
  {
   "cell_type": "code",
   "execution_count": 5,
   "id": "aa2cffbd",
   "metadata": {},
   "outputs": [
    {
     "name": "stdout",
     "output_type": "stream",
     "text": [
      "You have a choice: go to school (y/n)? y\n",
      "You decided to go to school... 😮\n",
      "Take the bus or walk 100 miles (b/w)? w\n",
      "🚶😫\n"
     ]
    }
   ],
   "source": [
    "choice = input(\"You have a choice: go to school (y/n)? \")\n",
    "if choice == \"y\":\n",
    "    print(\"You decided to go to school... 😮\")\n",
    "    choice = input(\"Take the bus or walk 100 miles (b/w)? \")\n",
    "    if choice == \"b\":\n",
    "        print(\"🚌\")\n",
    "    else:\n",
    "        print(\"🚶😫\")\n",
    "else:\n",
    "    print(\"You stayed home and did homework all day.\")"
   ]
  },
  {
   "cell_type": "markdown",
   "id": "414c7536",
   "metadata": {},
   "source": [
    "Make your stories creative, and have fun!"
   ]
  },
  {
   "cell_type": "code",
   "execution_count": 8,
   "id": "6d046cd0",
   "metadata": {},
   "outputs": [
    {
     "name": "stdout",
     "output_type": "stream",
     "text": [
      "You are at a crossroad. You can go right (r) or left (l), which way do you choose: r\n",
      "You went right, and arrived at the base of a mountain.\n",
      "There is another crossroad in front of you. Do you want to go in the forest (f) or hike up the mountain (m): f\n",
      "A few miles in the forest, a monster jumped out of the bushes. Do you want to fight the monster (f) or run (r): r\n",
      "You ran, but the monster didn't care that you were running as fast as you could and ate you anyway 😭\n"
     ]
    }
   ],
   "source": [
    "# Example story\n",
    "choice = input(\"You are at a crossroad. You can go right (r) or left (l), which way do you choose: \")\n",
    "if choice == \"r\":\n",
    "    print(\"You went right, and arrived at the base of a mountain.\")\n",
    "    choice = input(\"There is another crossroad in front of you. Do you want to go in the forest (f) or hike up the mountain (m): \")\n",
    "    if choice == \"f\":\n",
    "        choice = input(\"A few miles in the forest, a monster jumped out of the bushes. Do you want to fight the monster (f) or run (r): \")\n",
    "        if choice == \"f\":\n",
    "            print(\"You died fighting the monster 😢\")\n",
    "        else:\n",
    "            print(\"You ran, but the monster didn't care that you were running as fast as you could and ate you anyway 😭\")\n",
    "elif choice == \"l\":\n",
    "    print(\"You went left, and arrived at a river.\")\n",
    "    choice = input(\"You can either cross the river on a bridge (b) or swim across (s): \")\n",
    "    if choice == \"b\":\n",
    "        print(\"The bridge collapsed. Some fish ate you.\")\n",
    "    else:\n",
    "        print(\"You were a terrible swimmer. You somehow landed on the other side anyway.\")\n",
    "        print(\"You found some treasure and won blah blah blah. Congrats!\")\n",
    "else:\n",
    "    print(\"Goodbye!\")"
   ]
  }
 ],
 "metadata": {
  "kernelspec": {
   "display_name": "Python 3 (ipykernel)",
   "language": "python",
   "name": "python3"
  },
  "language_info": {
   "codemirror_mode": {
    "name": "ipython",
    "version": 3
   },
   "file_extension": ".py",
   "mimetype": "text/x-python",
   "name": "python",
   "nbconvert_exporter": "python",
   "pygments_lexer": "ipython3",
   "version": "3.9.10"
  }
 },
 "nbformat": 4,
 "nbformat_minor": 5
}
