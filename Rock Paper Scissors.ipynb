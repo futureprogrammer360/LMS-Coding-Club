{
 "cells": [
  {
   "cell_type": "markdown",
   "id": "65964218",
   "metadata": {},
   "source": [
    "# Rock Paper Scissors\n",
    "Today we will learn about and **functions** and **lists**, and create a rock paper scissors game."
   ]
  },
  {
   "cell_type": "markdown",
   "id": "a6e7c901",
   "metadata": {},
   "source": [
    "## Functions\n",
    "You may have already encountered **functions** in math. Below are some examples:\n",
    "* $f(x)=x^2$\n",
    "* $g(x)=4x+3$\n",
    "\n",
    "Functions in math are relations between **inputs** and **outputs** ($x$ and $y$). In the examples above, $f$ and $g$ are the functions, $x$ is the input, and the functions return outputs based on their definition and the input given.\n",
    "\n",
    "In programming, functions are similar (but arguably more powerful). Functions in programming are \"blocks\" of code that run when called."
   ]
  },
  {
   "cell_type": "markdown",
   "id": "d22d2628",
   "metadata": {},
   "source": [
    "### Functions in Python\n",
    "Functions in Python typically have the following syntax:\n",
    "```python\n",
    "def FUNCTION_NAME(INPUTS):\n",
    "    DO_SOME_STUFF\n",
    "```"
   ]
  },
  {
   "cell_type": "markdown",
   "id": "0c0071c0",
   "metadata": {},
   "source": [
    "So if we want to define the function $f$ from above, we can write:"
   ]
  },
  {
   "cell_type": "code",
   "execution_count": 1,
   "id": "b3c31b26",
   "metadata": {},
   "outputs": [],
   "source": [
    "def f(x):\n",
    "    return x ** 2  # x squared"
   ]
  },
  {
   "cell_type": "markdown",
   "id": "349a0b24",
   "metadata": {},
   "source": [
    "`return` outputs some data from inside the function to the rest of our program.\n",
    "\n",
    "Now we can **call** the function `f` with some input as `x`."
   ]
  },
  {
   "cell_type": "code",
   "execution_count": 2,
   "id": "c067620e",
   "metadata": {},
   "outputs": [
    {
     "name": "stdout",
     "output_type": "stream",
     "text": [
      "25\n"
     ]
    }
   ],
   "source": [
    "print(f(5))"
   ]
  },
  {
   "cell_type": "markdown",
   "id": "9f88bd94",
   "metadata": {},
   "source": [
    "$5^2=25$. Our function works!\n",
    "\n",
    "In the **function call** above, $5$ is **passed** into `f`, and `f` **returns** $5^2$ from the function."
   ]
  },
  {
   "cell_type": "markdown",
   "id": "06fbb535",
   "metadata": {},
   "source": [
    "### ✍ Your turn: write a function\n",
    "Now it's your turn: write a Python function modeling $g(x)=4x+3$. To get you started, below is a template with blanks you can fill:\n",
    "```python\n",
    "def _(_):\n",
    "    ______ 4 * x + 3\n",
    "```"
   ]
  },
  {
   "cell_type": "code",
   "execution_count": 3,
   "id": "c05ee765",
   "metadata": {},
   "outputs": [],
   "source": [
    "# Here's the answer\n",
    "def g(x):\n",
    "    return 4 * x + 3"
   ]
  },
  {
   "cell_type": "markdown",
   "id": "0483e780",
   "metadata": {},
   "source": [
    "Now we can use $g(x)$ to do math homew- I meant to calculate $4$ times a number plus $3$!"
   ]
  },
  {
   "cell_type": "code",
   "execution_count": 4,
   "id": "4d7e81a5",
   "metadata": {},
   "outputs": [
    {
     "name": "stdout",
     "output_type": "stream",
     "text": [
      "51\n",
      "-9\n",
      "27\n"
     ]
    }
   ],
   "source": [
    "print(g(12))\n",
    "print(g(-3))\n",
    "print(g(6))"
   ]
  },
  {
   "cell_type": "markdown",
   "id": "265ad4a4",
   "metadata": {},
   "source": [
    "In addition to `return`ing values, functions can also run other code."
   ]
  },
  {
   "cell_type": "code",
   "execution_count": 5,
   "id": "0f59d595",
   "metadata": {},
   "outputs": [
    {
     "name": "stdout",
     "output_type": "stream",
     "text": [
      "Hello!\n",
      "Hello, Bob!\n",
      "Hello, Elder!\n"
     ]
    }
   ],
   "source": [
    "def say_hello():\n",
    "    print(\"Hello!\")\n",
    "def greet(name):\n",
    "    print(\"Hello, \" + name + \"!\")\n",
    "\n",
    "say_hello()\n",
    "greet(\"Bob\")\n",
    "greet(\"Elder\")"
   ]
  },
  {
   "cell_type": "markdown",
   "id": "ebff685f",
   "metadata": {},
   "source": [
    "A function can also take multiple inputs separated by commas.\n",
    "\n",
    "Take a function $h(a,b)=2a + 3b$..."
   ]
  },
  {
   "cell_type": "code",
   "execution_count": 6,
   "id": "d633d086",
   "metadata": {},
   "outputs": [],
   "source": [
    "def h(a, b):\n",
    "    return 2 * a + 3 * b"
   ]
  },
  {
   "cell_type": "code",
   "execution_count": 7,
   "id": "d41e1f81",
   "metadata": {},
   "outputs": [
    {
     "name": "stdout",
     "output_type": "stream",
     "text": [
      "12\n",
      "-5\n",
      "-18\n"
     ]
    }
   ],
   "source": [
    "print(h(3, 2))\n",
    "print(h(-4, 1))\n",
    "print(h(-24, 10))"
   ]
  },
  {
   "cell_type": "markdown",
   "id": "ffd2bc54",
   "metadata": {},
   "source": [
    "Today's rock paper scissors program will be slightly more complex than the ones we wrote previously. One part of this program will be deciding who won between the computer and the player. This can be decided with some **conditional statements** (`if`-`elif`-`else`).\n",
    "\n",
    "Below is a starter template for you to reference. The `determine_winner` function will `return`\n",
    "* $-1$ if the player **lost**.\n",
    "* $0$ if the game is a **tie**.\n",
    "* $1$ if the player **won**.\n",
    "\n",
    "```python\n",
    "def determine_winner(player, computer):\n",
    "    if player == \"rock\":\n",
    "        if computer == \"rock\":\n",
    "            return 0\n",
    "        elif computer == \"paper\":\n",
    "            return -1\n",
    "        elif computer == \"scissors\":\n",
    "            return 1\n",
    "    elif player == \"paper\":\n",
    "        if computer == \"rock\":\n",
    "            return 1\n",
    "        elif computer == \"paper\":\n",
    "            return 0\n",
    "        elif computer == \"scissors\":\n",
    "            return -1\n",
    "    # When player enters \"scissors\"\n",
    "    # Write your code here!\n",
    "```"
   ]
  },
  {
   "cell_type": "code",
   "execution_count": 8,
   "id": "bef7f457",
   "metadata": {},
   "outputs": [],
   "source": [
    "def determine_winner(player, computer):\n",
    "    if player == \"rock\":\n",
    "        if computer == \"rock\":\n",
    "            return 0\n",
    "        elif computer == \"paper\":\n",
    "            return -1\n",
    "        elif computer == \"scissors\":\n",
    "            return 1\n",
    "    elif player == \"paper\":\n",
    "        if computer == \"rock\":\n",
    "            return 1\n",
    "        elif computer == \"paper\":\n",
    "            return 0\n",
    "        elif computer == \"scissors\":\n",
    "            return -1\n",
    "    elif player == \"scissors\":\n",
    "        if computer == \"rock\":\n",
    "            return -1\n",
    "        elif computer == \"paper\":\n",
    "            return 1\n",
    "        elif computer == \"scissors\":\n",
    "            return 0"
   ]
  },
  {
   "cell_type": "code",
   "execution_count": 9,
   "id": "fe3c18dd",
   "metadata": {},
   "outputs": [
    {
     "name": "stdout",
     "output_type": "stream",
     "text": [
      "-1\n",
      "0\n",
      "1\n"
     ]
    }
   ],
   "source": [
    "print(determine_winner(\"rock\", \"paper\"))      # Player lost\n",
    "print(determine_winner(\"paper\", \"paper\"))     # Tie\n",
    "print(determine_winner(\"scissors\", \"paper\"))  # Player won"
   ]
  },
  {
   "cell_type": "markdown",
   "id": "856daf5b",
   "metadata": {},
   "source": [
    "## Lists\n",
    "The second topic of the day is `list`, a way for us to store a **list** of data in Python. Think about your life, what are some places where lists can be seen?\n",
    "\n",
    "Below is how you can create a list in Python."
   ]
  },
  {
   "cell_type": "code",
   "execution_count": 10,
   "id": "e94dff74",
   "metadata": {},
   "outputs": [
    {
     "name": "stdout",
     "output_type": "stream",
     "text": [
      "['drink water', \"don't die\", 'live', 'do homework']\n"
     ]
    }
   ],
   "source": [
    "my_tasks = [\"drink water\", \"don't die\", \"live\", \"do homework\"]\n",
    "print(my_tasks)"
   ]
  },
  {
   "cell_type": "markdown",
   "id": "f809cf22",
   "metadata": {},
   "source": [
    "There are many things we can do with `list`s, but for now all you need to know is how to make one."
   ]
  },
  {
   "cell_type": "markdown",
   "id": "3db7a079",
   "metadata": {},
   "source": [
    "### ✍ Your turn: what are the choices?\n",
    "Really simple, make a list that contains the options of **rock**-**paper**-**scissors**.\n",
    "```python\n",
    "choices = [_, _, _]\n",
    "```"
   ]
  },
  {
   "cell_type": "code",
   "execution_count": 11,
   "id": "6e87f48a",
   "metadata": {},
   "outputs": [],
   "source": [
    "choices = [\"rock\", \"paper\", \"scissors\"]"
   ]
  },
  {
   "cell_type": "markdown",
   "id": "00cb2f6b",
   "metadata": {},
   "source": [
    "Since we want our computer friends to **randomly** select *rock, paper, or scissors* from the list, we can do this:"
   ]
  },
  {
   "cell_type": "code",
   "execution_count": 12,
   "id": "9c55ef94",
   "metadata": {},
   "outputs": [
    {
     "name": "stdout",
     "output_type": "stream",
     "text": [
      "rock\n",
      "paper\n",
      "paper\n"
     ]
    }
   ],
   "source": [
    "import random\n",
    "\n",
    "print(random.choice(choices))\n",
    "print(random.choice(choices))\n",
    "print(random.choice(choices))"
   ]
  },
  {
   "cell_type": "markdown",
   "id": "628ba4c9",
   "metadata": {},
   "source": [
    "### ✍ Your turn: functionalize\n",
    "Place the code above into a function `get_computer_choice()` that returns `rock`, `paper`, or `scissors` randomly.\n",
    "```python\n",
    "___ get_computer_choice():\n",
    "    choices = [\"rock\", \"paper\", \"scissors\"]\n",
    "    return random.______(choices)\n",
    "```"
   ]
  },
  {
   "cell_type": "code",
   "execution_count": 13,
   "id": "21cc3f04",
   "metadata": {},
   "outputs": [],
   "source": [
    "def get_computer_choice():\n",
    "    choices = [\"rock\", \"paper\", \"scissors\"]\n",
    "    return random.choice(choices)"
   ]
  },
  {
   "cell_type": "code",
   "execution_count": 14,
   "id": "65255510",
   "metadata": {},
   "outputs": [
    {
     "name": "stdout",
     "output_type": "stream",
     "text": [
      "paper\n",
      "paper\n",
      "scissors\n"
     ]
    }
   ],
   "source": [
    "print(get_computer_choice())\n",
    "print(get_computer_choice())\n",
    "print(get_computer_choice())"
   ]
  },
  {
   "cell_type": "markdown",
   "id": "50fe36f7",
   "metadata": {},
   "source": [
    "## Project: rock paper scissors\n",
    "Now we have everything we need to write the entire program. Remember to use the functions we defined above!\n",
    "\n",
    "1. Ask for player choice\n",
    "2. Get computer choice\n",
    "3. See who won\n",
    "4. Tell the player"
   ]
  },
  {
   "cell_type": "code",
   "execution_count": 15,
   "id": "4e6fad24",
   "metadata": {},
   "outputs": [
    {
     "name": "stdout",
     "output_type": "stream",
     "text": [
      "Enter 'rock', 'paper', 'scissors'.\n",
      "Player: rock\n",
      "Computer: scissors\n",
      "You won!!! :)\n"
     ]
    }
   ],
   "source": [
    "# Example program\n",
    "import random\n",
    "\n",
    "def determine_winner(player, computer):\n",
    "    if player == \"rock\":\n",
    "        if computer == \"rock\":\n",
    "            return 0\n",
    "        elif computer == \"paper\":\n",
    "            return -1\n",
    "        elif computer == \"scissors\":\n",
    "            return 1\n",
    "    elif player == \"paper\":\n",
    "        if computer == \"rock\":\n",
    "            return 1\n",
    "        elif computer == \"paper\":\n",
    "            return 0\n",
    "        elif computer == \"scissors\":\n",
    "            return -1\n",
    "    elif player == \"scissors\":\n",
    "        if computer == \"rock\":\n",
    "            return -1\n",
    "        elif computer == \"paper\":\n",
    "            return 1\n",
    "        elif computer == \"scissors\":\n",
    "            return 0\n",
    "\n",
    "def get_computer_choice():\n",
    "    choices = [\"rock\", \"paper\", \"scissors\"]\n",
    "    return random.choice(choices)\n",
    "\n",
    "print(\"Enter 'rock', 'paper', 'scissors'.\")\n",
    "player_choice = input(\"Player: \")\n",
    "computer_choice = get_computer_choice()\n",
    "print(\"Computer: \" + computer_choice)\n",
    "\n",
    "# Get winner\n",
    "winner = determine_winner(player_choice, computer_choice)\n",
    "if winner == -1:\n",
    "    print(\"You lost :(\")\n",
    "elif winner == 0:\n",
    "    print(\"The game was a tie.\")\n",
    "else:\n",
    "    print(\"You won!!! :)\")"
   ]
  }
 ],
 "metadata": {
  "kernelspec": {
   "display_name": "Python 3 (ipykernel)",
   "language": "python",
   "name": "python3"
  },
  "language_info": {
   "codemirror_mode": {
    "name": "ipython",
    "version": 3
   },
   "file_extension": ".py",
   "mimetype": "text/x-python",
   "name": "python",
   "nbconvert_exporter": "python",
   "pygments_lexer": "ipython3",
   "version": "3.9.6"
  }
 },
 "nbformat": 4,
 "nbformat_minor": 5
}
