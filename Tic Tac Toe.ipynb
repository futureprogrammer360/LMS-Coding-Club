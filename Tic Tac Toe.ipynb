{
 "cells": [
  {
   "cell_type": "markdown",
   "id": "d05c4f63",
   "metadata": {},
   "source": [
    "# Tic Tac Toe\n",
    "Today you will be making a tic tac toe game!"
   ]
  },
  {
   "cell_type": "markdown",
   "id": "5a16b877",
   "metadata": {},
   "source": [
    "## Board\n",
    "Firstly, we need to be able to store a board, which is the current state of the game grid."
   ]
  },
  {
   "cell_type": "code",
   "execution_count": 1,
   "id": "bd59565d",
   "metadata": {},
   "outputs": [],
   "source": [
    "board = [\n",
    "    [\" \", \" \", \" \"],\n",
    "    [\" \", \" \", \" \"],\n",
    "    [\" \", \" \", \" \"]\n",
    "]"
   ]
  },
  {
   "cell_type": "markdown",
   "id": "cf74f153",
   "metadata": {},
   "source": [
    "In the code above, `board` is a `list` of `list`s. Each inner list is a row.\n",
    "\n",
    "Now let's make a function to print the `board` so it looks nicer."
   ]
  },
  {
   "cell_type": "code",
   "execution_count": 2,
   "id": "98162437",
   "metadata": {},
   "outputs": [],
   "source": [
    "def print_board(board):\n",
    "    print(board[0][0] + \" | \" + board[0][1] + \" | \" + board[0][2])\n",
    "    print(\"---------\")\n",
    "    print(board[1][0] + \" | \" + board[1][1] + \" | \" + board[1][2])\n",
    "    print(\"---------\")\n",
    "    print(board[2][0] + \" | \" + board[2][1] + \" | \" + board[2][2])"
   ]
  },
  {
   "cell_type": "code",
   "execution_count": 3,
   "id": "3441b775",
   "metadata": {
    "scrolled": true
   },
   "outputs": [
    {
     "name": "stdout",
     "output_type": "stream",
     "text": [
      "  |   |  \n",
      "---------\n",
      "  |   |  \n",
      "---------\n",
      "  |   |  \n"
     ]
    }
   ],
   "source": [
    "print_board(board)"
   ]
  },
  {
   "cell_type": "markdown",
   "id": "f5d60227",
   "metadata": {},
   "source": [
    "Cool! Now let's define some variables that we will use in a moment."
   ]
  },
  {
   "cell_type": "code",
   "execution_count": 4,
   "id": "c7b258dc",
   "metadata": {},
   "outputs": [],
   "source": [
    "# Translate user input to index of our board\n",
    "# 1 | 2 | 3\n",
    "# ---------\n",
    "# 4 | 5 | 6\n",
    "# ---------\n",
    "# 7 | 8 | 9\n",
    "input_to_index = {\n",
    "    \"1\": (0, 0), \"2\": (0, 1), \"3\": (0, 2),\n",
    "    \"4\": (1, 0), \"5\": (1, 1), \"6\": (1, 2),\n",
    "    \"7\": (2, 0), \"8\": (2, 1), \"9\": (2, 2),\n",
    "}\n",
    "# Whether the game has been won by a player\n",
    "won = False\n",
    "# Number of turns left in round\n",
    "turns = 9"
   ]
  },
  {
   "cell_type": "markdown",
   "id": "d1b71d1d",
   "metadata": {},
   "source": [
    "Now let's write a function for a round of tic tac toe!"
   ]
  },
  {
   "cell_type": "code",
   "execution_count": 5,
   "id": "ea50c7a7",
   "metadata": {},
   "outputs": [],
   "source": [
    "def play():\n",
    "    won = False\n",
    "    turns = 9\n",
    "    \n",
    "    while not won and turns > 0:\n",
    "        if turns % 2 == 0:\n",
    "            mark = \"X\"\n",
    "        else:\n",
    "            mark = \"O\"\n",
    "        \n",
    "        print()\n",
    "        print_board(board)\n",
    "        \n",
    "        user_input = input(\"Player \" + mark + \": \")\n",
    "        if user_input == \"q\":\n",
    "            return  # Exit game if user enters 'q'\n",
    "        index = input_to_index[user_input]\n",
    "        \n",
    "        board[index[0]][index[1]] = mark\n",
    "        turns -= 1"
   ]
  },
  {
   "cell_type": "code",
   "execution_count": 6,
   "id": "4dd8b15c",
   "metadata": {},
   "outputs": [
    {
     "name": "stdout",
     "output_type": "stream",
     "text": [
      "\n",
      "  |   |  \n",
      "---------\n",
      "  |   |  \n",
      "---------\n",
      "  |   |  \n",
      "Player O: 1\n",
      "\n",
      "O |   |  \n",
      "---------\n",
      "  |   |  \n",
      "---------\n",
      "  |   |  \n",
      "Player X: 2\n",
      "\n",
      "O | X |  \n",
      "---------\n",
      "  |   |  \n",
      "---------\n",
      "  |   |  \n",
      "Player O: 2\n",
      "\n",
      "O | O |  \n",
      "---------\n",
      "  |   |  \n",
      "---------\n",
      "  |   |  \n",
      "Player X: q\n"
     ]
    }
   ],
   "source": [
    "play()"
   ]
  },
  {
   "cell_type": "markdown",
   "id": "350dd109",
   "metadata": {},
   "source": [
    "Right now, our program has some problems. A player is able to select a square that is already occupied! Let's fix that."
   ]
  },
  {
   "cell_type": "code",
   "execution_count": 7,
   "id": "354a76ad",
   "metadata": {},
   "outputs": [],
   "source": [
    "def play():\n",
    "    won = False\n",
    "    turns = 9\n",
    "    \n",
    "    while not won and turns > 0:\n",
    "        if turns % 2 == 0:\n",
    "            mark = \"X\"\n",
    "        else:\n",
    "            mark = \"O\"\n",
    "        \n",
    "        print()\n",
    "        print_board(board)\n",
    "        \n",
    "        user_input = input(\"Player \" + mark + \": \")\n",
    "        if user_input == \"q\":\n",
    "            return\n",
    "        index = input_to_index[user_input]\n",
    "        \n",
    "        # Check if square is occupied\n",
    "        if board[index[0]][index[1]] == \" \":\n",
    "            board[index[0]][index[1]] = mark\n",
    "            turns -= 1\n",
    "        else:\n",
    "            print(\"Square already occupied: please try again.\")"
   ]
  },
  {
   "cell_type": "code",
   "execution_count": 8,
   "id": "dc3e17a9",
   "metadata": {
    "scrolled": true
   },
   "outputs": [
    {
     "name": "stdout",
     "output_type": "stream",
     "text": [
      "\n",
      "O | O |  \n",
      "---------\n",
      "  |   |  \n",
      "---------\n",
      "  |   |  \n",
      "Player O: 2\n",
      "Square already occupied: please try again.\n",
      "\n",
      "O | O |  \n",
      "---------\n",
      "  |   |  \n",
      "---------\n",
      "  |   |  \n",
      "Player O: q\n"
     ]
    }
   ],
   "source": [
    "play()"
   ]
  },
  {
   "cell_type": "markdown",
   "id": "9bfc9b41",
   "metadata": {},
   "source": [
    "Now that issue is addressed, we need a way to check if the game has been won or not."
   ]
  },
  {
   "cell_type": "code",
   "execution_count": 9,
   "id": "cec2d8e6",
   "metadata": {},
   "outputs": [],
   "source": [
    "def get_winner(board):\n",
    "    # Check rows\n",
    "    for i in range(3):\n",
    "        if board[i][0] == board[i][1] == board[i][2]:\n",
    "            return board[i][0]\n",
    "    # Check columns\n",
    "    for i in range(3):\n",
    "        if board[0][i] == board[1][i] == board[2][i]:\n",
    "            return board[0][i]\n",
    "    # Check diagonals\n",
    "    if (board[0][0] == board[1][1] == board[2][2]) \\\n",
    "            or (board[0][2] == board[1][1] == board[2][0]):\n",
    "        return board[1][1]"
   ]
  },
  {
   "cell_type": "markdown",
   "id": "3901cd66",
   "metadata": {},
   "source": [
    "But, what if the board is empty? The squares would all be equal (to `\" \"` but equal nevertheless). Let's correct that."
   ]
  },
  {
   "cell_type": "code",
   "execution_count": 10,
   "id": "987f491d",
   "metadata": {},
   "outputs": [],
   "source": [
    "def get_winner(board):\n",
    "    # Check rows\n",
    "    for i in range(3):\n",
    "        if board[i][0] == board[i][1] == board[i][2]:\n",
    "            if board[i][0] != \" \":\n",
    "                return board[i][0]\n",
    "    # Check columns\n",
    "    for i in range(3):\n",
    "        if board[0][i] == board[1][i] == board[2][i]:\n",
    "            if board[0][i] != \" \":\n",
    "                return board[0][i]\n",
    "    # Check diagonals\n",
    "    if (board[0][0] == board[1][1] == board[2][2]) \\\n",
    "            or (board[0][2] == board[1][1] == board[2][0]):\n",
    "        if board[1][1] != \" \":\n",
    "            return board[1][1]"
   ]
  },
  {
   "cell_type": "markdown",
   "id": "639e4fd3",
   "metadata": {},
   "source": [
    "Now let's add that into the `play()` function."
   ]
  },
  {
   "cell_type": "code",
   "execution_count": 11,
   "id": "a014e906",
   "metadata": {},
   "outputs": [],
   "source": [
    "def play():\n",
    "    won = False\n",
    "    turns = 9\n",
    "    \n",
    "    while not won and turns > 0:\n",
    "        if turns % 2 == 0:\n",
    "            mark = \"X\"\n",
    "        else:\n",
    "            mark = \"O\"\n",
    "        \n",
    "        print()\n",
    "        print_board(board)\n",
    "        \n",
    "        user_input = input(\"Player \" + mark + \": \")\n",
    "        if user_input == \"q\":\n",
    "            return  # Exit game if user enters 'q'\n",
    "        index = input_to_index[user_input]\n",
    "        \n",
    "        # Check if square is occupied\n",
    "        if board[index[0]][index[1]] == \" \":\n",
    "            board[index[0]][index[1]] = mark\n",
    "            turns -= 1\n",
    "        else:\n",
    "            print(\"Square already occupied: please try again.\")\n",
    "            \n",
    "        # Check if the game has been won\n",
    "        if get_winner(board):\n",
    "            print()\n",
    "            print_board(board)\n",
    "            won = True\n",
    "            print(\"Congratulations, player \" + get_winner(board) + \"! You won!\")"
   ]
  },
  {
   "cell_type": "code",
   "execution_count": 12,
   "id": "2a19b3d6",
   "metadata": {
    "scrolled": false
   },
   "outputs": [
    {
     "name": "stdout",
     "output_type": "stream",
     "text": [
      "\n",
      "O | O |  \n",
      "---------\n",
      "  |   |  \n",
      "---------\n",
      "  |   |  \n",
      "Player O: 3\n",
      "\n",
      "O | O | O\n",
      "---------\n",
      "  |   |  \n",
      "---------\n",
      "  |   |  \n",
      "Congratulations, player O! You won!\n"
     ]
    }
   ],
   "source": [
    "play()"
   ]
  },
  {
   "cell_type": "markdown",
   "id": "9ae1f40b",
   "metadata": {},
   "source": [
    "Everything works! Lastly, let's put all the variable resets into a function, so we can just call that before every game."
   ]
  },
  {
   "cell_type": "code",
   "execution_count": 13,
   "id": "7f029019",
   "metadata": {},
   "outputs": [],
   "source": [
    "def reset():\n",
    "    won = False\n",
    "    turns = 9\n",
    "    board = [\n",
    "        [\" \", \" \", \" \"],\n",
    "        [\" \", \" \", \" \"],\n",
    "        [\" \", \" \", \" \"]\n",
    "    ]\n",
    "    return won, turns, board"
   ]
  },
  {
   "cell_type": "code",
   "execution_count": 14,
   "id": "281cd5a2",
   "metadata": {},
   "outputs": [],
   "source": [
    "def play():\n",
    "    won, turns, board = reset()\n",
    "    \n",
    "    while not won and turns > 0:\n",
    "        if turns % 2 == 0:\n",
    "            mark = \"X\"\n",
    "        else:\n",
    "            mark = \"O\"\n",
    "        \n",
    "        print()\n",
    "        print_board(board)\n",
    "        \n",
    "        user_input = input(\"Player \" + mark + \": \")\n",
    "        if user_input == \"q\":\n",
    "            return  # Exit game if user enters 'q'\n",
    "        index = input_to_index[user_input]\n",
    "        \n",
    "        # Check if square is occupied\n",
    "        if board[index[0]][index[1]] == \" \":\n",
    "            board[index[0]][index[1]] = mark\n",
    "            turns -= 1\n",
    "        else:\n",
    "            print(\"Square already occupied: please try again.\")\n",
    "            \n",
    "        # Check if the game has been won\n",
    "        if get_winner(board):\n",
    "            print()\n",
    "            print_board(board)\n",
    "            won = True\n",
    "            print(\"Congratulations, player \" + get_winner(board) + \"! You won!\")"
   ]
  },
  {
   "cell_type": "code",
   "execution_count": 15,
   "id": "2703db22",
   "metadata": {
    "scrolled": false
   },
   "outputs": [
    {
     "name": "stdout",
     "output_type": "stream",
     "text": [
      "\n",
      "  |   |  \n",
      "---------\n",
      "  |   |  \n",
      "---------\n",
      "  |   |  \n",
      "Player O: 1\n",
      "\n",
      "O |   |  \n",
      "---------\n",
      "  |   |  \n",
      "---------\n",
      "  |   |  \n",
      "Player X: 5\n",
      "\n",
      "O |   |  \n",
      "---------\n",
      "  | X |  \n",
      "---------\n",
      "  |   |  \n",
      "Player O: 2\n",
      "\n",
      "O | O |  \n",
      "---------\n",
      "  | X |  \n",
      "---------\n",
      "  |   |  \n",
      "Player X: 4\n",
      "\n",
      "O | O |  \n",
      "---------\n",
      "X | X |  \n",
      "---------\n",
      "  |   |  \n",
      "Player O: 3\n",
      "\n",
      "O | O | O\n",
      "---------\n",
      "X | X |  \n",
      "---------\n",
      "  |   |  \n",
      "Congratulations, player O! You won!\n"
     ]
    }
   ],
   "source": [
    "play()"
   ]
  },
  {
   "cell_type": "markdown",
   "id": "0ec0f630",
   "metadata": {},
   "source": [
    "Congratulations! You finished the tic tac toe program in Python! Feel free to play around with the code, and even teach the computer to play against human players! 😉"
   ]
  }
 ],
 "metadata": {
  "kernelspec": {
   "display_name": "Python 3 (ipykernel)",
   "language": "python",
   "name": "python3"
  },
  "language_info": {
   "codemirror_mode": {
    "name": "ipython",
    "version": 3
   },
   "file_extension": ".py",
   "mimetype": "text/x-python",
   "name": "python",
   "nbconvert_exporter": "python",
   "pygments_lexer": "ipython3",
   "version": "3.9.6"
  }
 },
 "nbformat": 4,
 "nbformat_minor": 5
}
