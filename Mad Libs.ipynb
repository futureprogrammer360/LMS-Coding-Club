{
 "cells": [
  {
   "cell_type": "markdown",
   "metadata": {},
   "source": [
    "# Mad Libs\n",
    "Today, we're going to make a mad libs game. Before getting to that though, we will need to learn some Python to help us create that."
   ]
  },
  {
   "cell_type": "markdown",
   "metadata": {},
   "source": [
    "## Outputting stuff\n",
    "To display some information onto the screen, we can use the `print()` function."
   ]
  },
  {
   "cell_type": "code",
   "execution_count": 1,
   "metadata": {},
   "outputs": [
    {
     "name": "stdout",
     "output_type": "stream",
     "text": [
      "Hello, world!\n"
     ]
    }
   ],
   "source": [
    "print(\"Hello, world!\")"
   ]
  },
  {
   "cell_type": "markdown",
   "metadata": {},
   "source": [
    "The `\"\"` indicates that the information within them is text, technically called `str`ings."
   ]
  },
  {
   "cell_type": "markdown",
   "metadata": {},
   "source": [
    "### ✍ Your turn: introduce yourself\n",
    "With `print()`, introduce yourself in Python."
   ]
  },
  {
   "cell_type": "code",
   "execution_count": 2,
   "metadata": {},
   "outputs": [
    {
     "name": "stdout",
     "output_type": "stream",
     "text": [
      "Who am I?\n",
      "Just an ordinary person with extraordinary dreams.\n"
     ]
    }
   ],
   "source": [
    "print(\"Who am I?\")\n",
    "print(\"Just an ordinary person with extraordinary dreams.\")"
   ]
  },
  {
   "cell_type": "markdown",
   "metadata": {},
   "source": [
    "Congrats on writing your first program in Python! 🥳🥳🥳"
   ]
  },
  {
   "cell_type": "markdown",
   "metadata": {},
   "source": [
    "## Inputting stuff and variables\n",
    "Think about the apps you use on a daily basis. A majority of them outputs information. Many also allow users to **input** things.\n",
    "\n",
    "This is done with `input()` in Python, where we pass the prompt."
   ]
  },
  {
   "cell_type": "code",
   "execution_count": 3,
   "metadata": {
    "scrolled": false
   },
   "outputs": [
    {
     "name": "stdout",
     "output_type": "stream",
     "text": [
      "Hello, enter your name: Future Programmer\n"
     ]
    }
   ],
   "source": [
    "input(\"Hello, enter your name: \")"
   ]
  },
  {
   "cell_type": "markdown",
   "metadata": {},
   "source": [
    "To store user inputs for use later, we can put them in **variables**, which are containers of data."
   ]
  },
  {
   "cell_type": "code",
   "execution_count": 4,
   "metadata": {},
   "outputs": [
    {
     "name": "stdout",
     "output_type": "stream",
     "text": [
      "Hello, enter your name: Future Programmer\n",
      "Your name is Future Programmer\n"
     ]
    }
   ],
   "source": [
    "name = input(\"Hello, enter your name: \")\n",
    "print(\"Your name is \" + name)"
   ]
  },
  {
   "cell_type": "markdown",
   "metadata": {},
   "source": [
    "Above, `name` is the variable name (just like `x`, `y`, etc), and it stores whatever the user inputs. That information can be accessed later through the variable name as well, like we did in line 2.\n",
    "\n",
    "In addition to user inputs, we can also store other data in variables."
   ]
  },
  {
   "cell_type": "code",
   "execution_count": 5,
   "metadata": {},
   "outputs": [
    {
     "name": "stdout",
     "output_type": "stream",
     "text": [
      "4\n",
      "2\n"
     ]
    }
   ],
   "source": [
    "a = 1\n",
    "b = 2\n",
    "c = 3\n",
    "print(a + c)\n",
    "print(b)"
   ]
  },
  {
   "cell_type": "markdown",
   "metadata": {},
   "source": [
    "### ✍ Your turn: how's the weather?\n",
    "Ask about the weather outside with `input()` and `print()` it out!"
   ]
  },
  {
   "cell_type": "code",
   "execution_count": 6,
   "metadata": {},
   "outputs": [
    {
     "name": "stdout",
     "output_type": "stream",
     "text": [
      "Weather: sunny\n",
      "It is sunny right now.\n"
     ]
    }
   ],
   "source": [
    "weather = input(\"Weather: \")\n",
    "print(\"It is \" + weather + \" right now.\")"
   ]
  },
  {
   "cell_type": "markdown",
   "metadata": {},
   "source": [
    "## Project: Mad Libs\n",
    "Mad Libs is a word game where a player is asked for words (nouns, adjectives, etc), which are inserted into a story template. For more information: https://en.wikipedia.org/wiki/Mad_Libs\n",
    "\n",
    "Our program will contain 2 parts:\n",
    "1. Asking for words\n",
    "2. Printing out the completed story\n",
    "\n",
    "Have fun and be creative!"
   ]
  },
  {
   "cell_type": "code",
   "execution_count": 7,
   "metadata": {},
   "outputs": [
    {
     "name": "stdout",
     "output_type": "stream",
     "text": [
      "Noun 1: carpet\n",
      "Noun 2: car\n",
      "Adjective 1: red\n",
      "Adjective 2: cold\n",
      "Verb (past tense) 1: took\n",
      "Verb (past tense) 2: flew\n",
      "Name 1: Joe\n",
      "Name 2: John\n",
      "\n",
      "Joe was walking in a forest when a carpet jumped out of the trees. Scared, Joe screamed for help as loud as he could, and just coincidentally, a very red John took and came to Joe's rescue. Slightly cold, Joe flew into a car. The end.\n"
     ]
    }
   ],
   "source": [
    "# Example program\n",
    "noun1 = input(\"Noun 1: \")\n",
    "noun2 = input(\"Noun 2: \")\n",
    "adjective1 = input(\"Adjective 1: \")\n",
    "adjective2 = input(\"Adjective 2: \")\n",
    "verb1 = input(\"Verb (past tense) 1: \")\n",
    "verb2 = input(\"Verb (past tense) 2: \")\n",
    "name1 = input(\"Name 1: \")\n",
    "name2 = input(\"Name 2: \")\n",
    "\n",
    "print()\n",
    "print(name1 + \" was walking in a forest when a \" + noun1 + \" jumped out of the trees.\" + \" Scared, \" + name1 + \" screamed for help as loud as he could, and just coincidentally, a very \" + adjective1 + \" \" + name2 + \" \" + verb1 + \" and came to \" + name1 + \"'s rescue. Slightly \" + adjective2 + \", \" + name1 + \" \" + verb2 + \" into a \" + noun2 + \". The end.\")"
   ]
  }
 ],
 "metadata": {
  "kernelspec": {
   "display_name": "Python 3 (ipykernel)",
   "language": "python",
   "name": "python3"
  },
  "language_info": {
   "codemirror_mode": {
    "name": "ipython",
    "version": 3
   },
   "file_extension": ".py",
   "mimetype": "text/x-python",
   "name": "python",
   "nbconvert_exporter": "python",
   "pygments_lexer": "ipython3",
   "version": "3.9.6"
  }
 },
 "nbformat": 4,
 "nbformat_minor": 4
}
